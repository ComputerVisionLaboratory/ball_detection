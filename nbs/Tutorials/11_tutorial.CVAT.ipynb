{
 "cells": [
  {
   "cell_type": "markdown",
   "metadata": {},
   "source": [
    "# How to annotate frames with CVAT"
   ]
  },
  {
   "cell_type": "markdown",
   "metadata": {},
   "source": [
    "## Install CVAT\n",
    "Follow the [quick annotation guide](https://github.com/openvinotoolkit/cvat/blob/develop/cvat/apps/documentation/installation.md#ubuntu-1804-x86_64amd64) to install untill `docker-compose up` (if you did make sure you have stopped all the containers by `docker-compose down` before proceding). \n",
    "\n",
    "## Set up Semi-automatic and Automatic Annotation.\n",
    "\n",
    "Follow this [guide](https://github.com/openvinotoolkit/cvat/blob/develop/cvat/apps/documentation/installation_automatic_annotation.md#semi-automatic-and-automatic-annotation).\n",
    "\n",
    "## Upload video data\n",
    "\n",
    "Once the container has started, go to localhost:8080. Login and create a new task.\n",
    "You can see the container status from `docker ps`.\n",
    "\n",
    "Follow [creating an annotation task](https://github.com/openvinotoolkit/cvat/blob/develop/cvat/apps/documentation/user_guide.md#creating-an-annotation-task) to do this.\n",
    "\n",
    "The dashboard should look like this once you have uploaded the video.\n",
    "![](./images/11_tutorial.CVAT/dashboard-1.png)"
   ]
  },
  {
   "cell_type": "markdown",
   "metadata": {},
   "source": [
    "## Option 1.\n",
    "\n",
    "Manually annotate the frames. This is actually better for simple objects like a football moving in a video because cvat can do tracking with keyframes."
   ]
  },
  {
   "cell_type": "markdown",
   "metadata": {},
   "source": [
    "![](./images/11_tutorial.CVAT/dashboard-2.png)"
   ]
  },
  {
   "cell_type": "markdown",
   "metadata": {},
   "source": [
    "## Option 2. Automatic Annotation\n",
    "\n",
    "With cvat you can use existing models such as yolo to perform annotation. However the labels won't be perfect and it may need manual correcting to be useful as training data."
   ]
  },
  {
   "cell_type": "markdown",
   "metadata": {},
   "source": [
    "## Example of a finished annotation\n",
    "\n",
    "![](./images/11_tutorial.CVAT/kick-annotation-opt.gif)"
   ]
  }
 ],
 "metadata": {
  "kernelspec": {
   "display_name": "Python 3",
   "language": "python",
   "name": "python3"
  }
 },
 "nbformat": 4,
 "nbformat_minor": 2
}
