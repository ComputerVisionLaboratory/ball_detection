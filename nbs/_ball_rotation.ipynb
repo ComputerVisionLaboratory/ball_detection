{
 "cells": [
  {
   "cell_type": "code",
   "execution_count": 1,
   "metadata": {},
   "outputs": [],
   "source": [
    "#hide\n",
    "%load_ext autoreload\n",
    "%autoreload 2\n",
    "%load_ext tensorboard"
   ]
  },
  {
   "cell_type": "code",
   "execution_count": 2,
   "metadata": {},
   "outputs": [
    {
     "data": {
      "text/plain": [
       "'/home/member/atom/ball_detection'"
      ]
     },
     "execution_count": 2,
     "metadata": {},
     "output_type": "execute_result"
    }
   ],
   "source": [
    "import os\n",
    "os.chdir('../')\n",
    "os.getcwd()"
   ]
  },
  {
   "cell_type": "code",
   "execution_count": 3,
   "metadata": {},
   "outputs": [
    {
     "name": "stdout",
     "output_type": "stream",
     "text": [
      "Samples found: 1172\n"
     ]
    }
   ],
   "source": [
    "from rich.progress import track\n",
    "from ball_detection.dataset import XMLDetectionDataset\n",
    "import numpy as np\n",
    "\n",
    "data_dir = './data/videoframes' # path to data\n",
    "dataset = XMLDetectionDataset(root=data_dir)\n",
    "\n",
    "print('Samples found:', len(dataset))"
   ]
  },
  {
   "cell_type": "code",
   "execution_count": 4,
   "metadata": {},
   "outputs": [],
   "source": [
    "from pathlib import Path\n",
    "\n",
    "dataset.xml_files = sorted(Path('./data/Annotations/').glob('*.xml'))"
   ]
  },
  {
   "cell_type": "code",
   "execution_count": 5,
   "metadata": {},
   "outputs": [
    {
     "data": {
      "application/vnd.jupyter.widget-view+json": {
       "model_id": "95e6ff0ff6c7435b86251faa3f4dceba",
       "version_major": 2,
       "version_minor": 0
      },
      "text/plain": [
       "Output()"
      ]
     },
     "metadata": {},
     "output_type": "display_data"
    }
   ],
   "source": [
    "import re\n",
    "import matplotlib.pyplot as plt\n",
    "from PIL import Image\n",
    "\n",
    "for idx, (im, ll) in track(enumerate(dataset), total=len(dataset)):\n",
    "    if idx == 596:\n",
    "        break\n",
    "    string = ll['annotation']['filename']\n",
    "    filenumber = int(re.search(r'\\d+', string).group())\n",
    "    im, _ = dataset[filenumber]\n",
    "    \n",
    "    bbox = dataset.parse_bboxes(ll)[0]\n",
    "    x, y = np.mean((bbox[1],bbox[3]),dtype=int), np.mean((bbox[0],bbox[2]) ,dtype=int)\n",
    "    roi = im[x-25:x+25, y-25:y+25]\n",
    "    if roi.shape == (50, 50, 3):\n",
    "        x = Image.fromarray(roi)\n",
    "        x.save(f'./data/ball_region/{idx:05d}.png')\n"
   ]
  },
  {
   "cell_type": "code",
   "execution_count": 23,
   "metadata": {},
   "outputs": [],
   "source": [
    "import numpy as np\n",
    "import cv2 as cv\n",
    "import cv2\n",
    "import argparse\n",
    "import glob\n",
    "\n",
    "import os\n",
    "os.system('rm -rf ./nbs/MIRU/outputs/ball_out2')\n",
    "os.mkdir('./nbs/MIRU/outputs/ball_out2')\n",
    "\n",
    "# params for Shi-Tomasi corner detection\n",
    "feature_params = dict(\n",
    "    maxCorners = 100,\n",
    "    qualityLevel = 0.3,\n",
    "    minDistance = 7,\n",
    "    blockSize = 3 )\n",
    "\n",
    "# Parameters for lucas kanade optical flow\n",
    "lk_params = dict( winSize  = (5,5),\n",
    "                  maxLevel = 2,\n",
    "                  criteria = (cv.TERM_CRITERIA_EPS | cv.TERM_CRITERIA_COUNT, 10, 0.03))\n",
    "\n",
    "# Create some random colors\n",
    "color = np.random.randint(0,255,(100,3))\n",
    "\n",
    "files = sorted(glob.glob('./nbs/MIRU/outputs/ball_out/*.jpg'))\n",
    "for idx, imgfile in enumerate(files):\n",
    "    if imgfile == files[0]:\n",
    "        imgfile = str(imgfile)\n",
    "        img = cv2.imread(imgfile)\n",
    "\n",
    "        img_gray = cv.cvtColor(img, cv.COLOR_BGR2GRAY)\n",
    "        p0 = cv.goodFeaturesToTrack(img_gray, mask = None, **feature_params)\n",
    "        # Create a mask image for drawing purposes\n",
    "        mask = np.zeros_like(img)\n",
    "    else:\n",
    "        imgfile = str(imgfile)\n",
    "        frame = cv2.imread(imgfile)\n",
    "\n",
    "        frame_gray = cv.cvtColor(frame, cv.COLOR_BGR2GRAY)\n",
    "        # calculate optical flow\n",
    "        p1, st, err = cv.calcOpticalFlowPyrLK(img_gray, frame_gray, p0, None, **lk_params)\n",
    "        # Select good points\n",
    "        if p1 is not None:\n",
    "            good_new = p1[st==1]\n",
    "            good_old = p0[st==1]\n",
    "        # draw the tracks\n",
    "        for i,(new,old) in enumerate(zip(good_new, good_old)):\n",
    "            a,b = new.ravel()\n",
    "            c,d = old.ravel()\n",
    "            mask = cv.line(mask, (int(a),int(b)),(int(c),int(d)), color[i].tolist(), 2)\n",
    "            frame = cv.circle(frame,(int(a),int(b)),5,color[i].tolist(),-1)\n",
    "            \n",
    "        img = cv.add(frame,mask)\n",
    "        \n",
    "        cv.imwrite(f'./nbs/MIRU/outputs/ball_out2/{idx-1:06d}.png',img)\n",
    "        # Now update the previous frame and previous points\n",
    "        img_gray = frame_gray.copy()\n",
    "        p0 = good_new.reshape(-1,1,2)\n"
   ]
  },
  {
   "cell_type": "code",
   "execution_count": 27,
   "metadata": {},
   "outputs": [
    {
     "name": "stdout",
     "output_type": "stream",
     "text": [
      "not found\n"
     ]
    },
    {
     "data": {
      "text/plain": [
       "<matplotlib.image.AxesImage at 0x7f67e45a7d90>"
      ]
     },
     "execution_count": 27,
     "metadata": {},
     "output_type": "execute_result"
    },
    {
     "data": {
      "image/png": "[encoded data removed]",
      "text/plain": [
       "<Figure size 432x288 with 1 Axes>"
      ]
     },
     "metadata": {
      "needs_background": "light"
     },
     "output_type": "display_data"
    }
   ],
   "source": [
    "import cv2 as cv\n",
    "filename = '../data/ball_sample2.png'\n",
    "\n",
    "# Loads an image\n",
    "src = cv.imread(cv.samples.findFile(files[0]), cv.IMREAD_COLOR)\n",
    "h, w, _ = src.shape\n",
    "\n",
    "gray = cv.cvtColor(src, cv.COLOR_BGR2GRAY)\n",
    "\n",
    "\n",
    "gray = cv.medianBlur(gray, 1)\n",
    "\n",
    "\n",
    "rows = gray.shape[0]\n",
    "circles = cv.HoughCircles(gray, cv.HOUGH_GRADIENT, 1, max(h,w),\n",
    "                           param1=100, param2=10,\n",
    "                           minRadius=min(h,w)//4, maxRadius=max(h,w)//2)\n",
    "\n",
    "\n",
    "if circles is not None:\n",
    "    circles = np.uint16(np.around(circles))\n",
    "    for i in circles[0, :]:\n",
    "        center = (i[0], i[1])\n",
    "        # circle center\n",
    "        cv.circle(src, center, 1, (0, 100, 100), 3)\n",
    "        # circle outline\n",
    "        radius = i[2]\n",
    "        cv.circle(src, center, radius, (255, 0, 255), 1)\n",
    "else:\n",
    "    print('not found')\n",
    "    \n",
    "plt.imshow(src)"
   ]
  },
  {
   "cell_type": "code",
   "execution_count": 26,
   "metadata": {},
   "outputs": [
    {
     "data": {
      "text/plain": [
       "array([[[52, 44, 43]]], dtype=uint16)"
      ]
     },
     "execution_count": 26,
     "metadata": {},
     "output_type": "execute_result"
    }
   ],
   "source": [
    "circles"
   ]
  },
  {
   "cell_type": "code",
   "execution_count": 7,
   "metadata": {},
   "outputs": [],
   "source": [
    "# params for Shi-Tomasi corner detection\n",
    "feature_params = dict(\n",
    "    maxCorners = 100,\n",
    "    qualityLevel = 0.3,\n",
    "    minDistance = 7,\n",
    "    blockSize = 3 )\n",
    "\n",
    "# Parameters for lucas kanade optical flow\n",
    "lk_params = dict( winSize  = (5,5),\n",
    "                  maxLevel = 2,\n",
    "                  criteria = (cv.TERM_CRITERIA_EPS | cv.TERM_CRITERIA_COUNT, 10, 0.03))\n",
    "\n",
    "# Create some random colors\n",
    "color = np.random.randint(0,255,(100,3))\n",
    "\n",
    "for idx, imgfile in enumerate(files[556:]):\n",
    "    if idx == 0:\n",
    "        imgfile = str(imgfile)\n",
    "        img = cv2.imread(imgfile)\n",
    "\n",
    "        img_gray = cv.cvtColor(img, cv.COLOR_BGR2GRAY)\n",
    "        p0 = cv.goodFeaturesToTrack(img_gray, mask = None, **feature_params)\n",
    "        # Create a mask image for drawing purposes\n",
    "        mask = np.zeros_like(img)\n",
    "    else:\n",
    "        imgfile = str(imgfile)\n",
    "        frame = cv2.imread(imgfile)\n",
    "\n",
    "        frame_gray = cv.cvtColor(frame, cv.COLOR_BGR2GRAY)\n",
    "        # calculate optical flow\n",
    "        p1, st, err = cv.calcOpticalFlowPyrLK(img_gray, frame_gray, p0, None, **lk_params)\n",
    "        # Select good points\n",
    "        if p1 is not None:\n",
    "            good_new = p1[st==1]\n",
    "            good_old = p0[st==1]\n",
    "        # draw the tracks\n",
    "        for i,(new,old) in enumerate(zip(good_new, good_old)):\n",
    "            a,b = new.ravel()\n",
    "            c,d = old.ravel()\n",
    "            mask = cv.line(mask, (int(a),int(b)),(int(c),int(d)), color[i].tolist(), 2)\n",
    "            frame = cv.circle(frame,(int(a),int(b)),5,color[i].tolist(),-1)\n",
    "            \n",
    "        img = cv.add(frame,mask)\n",
    "        \n",
    "        cv.imwrite(f'data/klt_out2/{idx-1:06d}.png',img)\n",
    "        # Now update the previous frame and previous points\n",
    "        img_gray = frame_gray.copy()\n",
    "        p0 = good_new.reshape(-1,1,2)\n"
   ]
  },
  {
   "cell_type": "code",
   "execution_count": null,
   "metadata": {},
   "outputs": [],
   "source": []
  }
 ],
 "metadata": {
  "kernelspec": {
   "display_name": "Python 3",
   "language": "python",
   "name": "python3"
  },
  "language_info": {
   "codemirror_mode": {
    "name": "ipython",
    "version": 3
   },
   "file_extension": ".py",
   "mimetype": "text/x-python",
   "name": "python",
   "nbconvert_exporter": "python",
   "pygments_lexer": "ipython3",
   "version": "3.9.2"
  }
 },
 "nbformat": 4,
 "nbformat_minor": 4
}
